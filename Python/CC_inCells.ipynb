{
  "nbformat": 4,
  "nbformat_minor": 0,
  "metadata": {
    "colab": {
      "name": "CC-inCells.ipynb",
      "provenance": [],
      "collapsed_sections": [],
      "include_colab_link": true
    },
    "kernelspec": {
      "name": "python3",
      "display_name": "Python 3"
    }
  },
  "cells": [
    {
      "cell_type": "markdown",
      "metadata": {
        "id": "view-in-github",
        "colab_type": "text"
      },
      "source": [
        "<a href=\"https://colab.research.google.com/github/shrnkm/ColorCompanion/blob/master/Python/CC_inCells.ipynb\" target=\"_parent\"><img src=\"https://colab.research.google.com/assets/colab-badge.svg\" alt=\"Open In Colab\"/></a>"
      ]
    },
    {
      "cell_type": "code",
      "metadata": {
        "id": "MZ3YmgaGwrZH",
        "colab_type": "code",
        "colab": {}
      },
      "source": [
        "# import the libraries\n",
        "import numpy as np\n",
        "import matplotlib.pyplot as plt"
      ],
      "execution_count": 0,
      "outputs": []
    },
    {
      "cell_type": "code",
      "metadata": {
        "id": "lP6DH4iXNujK",
        "colab_type": "code",
        "colab": {}
      },
      "source": [
        "# ------------------------------------------------------------------------------\n",
        "# set the colors dictionary\n",
        "# ------------------------------------------------------------------------------\n",
        "color_dic = {0: ['boring green','#63b365'],\n",
        "             1: ['cyan','#00ffff'],\n",
        "             2: ['yellow','#ffff14'],\n",
        "             3: ['lime green','#89fe05'],\n",
        "             4: ['hot pink','#ff028d'],\n",
        "             5: ['cornflower','#6a79f7'],\n",
        "             6: ['white','#ffffff'],\n",
        "             7: ['neon blue','#04d9ff'],\n",
        "             8: ['bright teal','#01f9c6'],\n",
        "             9: ['purpley blue','#5f34e7'],\n",
        "             10:['balck','#000000'],\n",
        "             11:['darker purple','#5f1b6b'],\n",
        "             12:['very light purple','#f6cefc'],\n",
        "             13:['light yellow green','#ccfd7f'],\n",
        "             14:['cool grey','#95a3a6'],\n",
        "             15:['fluro green','#0aff02'],\n",
        "             16:['lipstick red','#c0022f'],\n",
        "             17:['lawn green','#4da409'],\n",
        "             18:['darkblue','#030764'],\n",
        "             19:['sand yellow','#fce166'],\n",
        "             20:['golden rod','#f9bc08'],\n",
        "             21:['neon red','#ff073a'],\n",
        "             22:['vivid purple','#9900fa'],\n",
        "             23:['orange pink','#ff6f52'],\n",
        "             24:['desert','#ccad60']}\n"
      ],
      "execution_count": 0,
      "outputs": []
    },
    {
      "cell_type": "code",
      "metadata": {
        "id": "MfHOolb4yOzb",
        "colab_type": "code",
        "colab": {}
      },
      "source": [
        "# ------------------------------------------------------------------------------\n",
        "# initialize the adjectives dictionary\n",
        "# ------------------------------------------------------------------------------\n",
        "adj_dict = {'warm'  : np.array([1,0,0]),\n",
        "            'red'   : np.array([1,0,0]),\n",
        "            'blue'  : np.array([0,0,1]),\n",
        "            'green' : np.array([0,1,0]),\n",
        "            'yellow': np.array([.5,.5,0]),\n",
        "            'cold'  : np.array([-.5,0,.5]),\n",
        "            'bright': np.array([.3,.3,.3]),\n",
        "            'pale'  : np.array([-.3,-.3,-.3],\n",
        "            'light' : np.array([-.5,-.5,-.5])}\n"
      ],
      "execution_count": 0,
      "outputs": []
    },
    {
      "cell_type": "code",
      "metadata": {
        "id": "lq8-leLUyT39",
        "colab_type": "code",
        "colab": {}
      },
      "source": [
        "# ------------------------------------------------------------------------------\n",
        "# initialize the adverbs dictionary\n",
        "# ------------------------------------------------------------------------------\n",
        "adv_dict = {.05:['bit', 'little', 'slightly'],\n",
        "            .15 :['somewhat', 'somehow'],\n",
        "            .3 :['lot', 'very', 'much']}"
      ],
      "execution_count": 0,
      "outputs": []
    },
    {
      "cell_type": "code",
      "metadata": {
        "id": "vp8cIelSw3XQ",
        "colab_type": "code",
        "outputId": "adc8342d-2d55-429c-855d-048ad06406c6",
        "colab": {
          "base_uri": "https://localhost:8080/",
          "height": 85
        }
      },
      "source": [
        "# ------------------------------------------------------------------------------\n",
        "# ask for the name of the user and welcome them\n",
        "# ------------------------------------------------------------------------------\n",
        "# ask and receive the user name\n",
        "name = input('What\\'s your name?\\n')\n",
        "# say hi to them\n",
        "print('\\nHi ,' + name + '!')\n"
      ],
      "execution_count": 0,
      "outputs": [
        {
          "output_type": "stream",
          "text": [
            "What's your name?\n",
            "Sahar\n",
            "\n",
            "Hi ,Sahar!\n"
          ],
          "name": "stdout"
        }
      ]
    },
    {
      "cell_type": "code",
      "metadata": {
        "id": "XIKTN60QwvPo",
        "colab_type": "code",
        "outputId": "0e0202c4-9d07-49c1-d5d8-982f32871c6d",
        "colab": {
          "base_uri": "https://localhost:8080/",
          "height": 248
        }
      },
      "source": [
        "# ---------------------------------------------\n",
        "# display color for the user to pick the target\n",
        "# ---------------------------------------------\n",
        "\n",
        "# set an empty list for the colors in the pool\n",
        "colors = [None] * len(color_dic)\n",
        "# number of color patches in each row\n",
        "blocks = 5\n",
        "# size of each color patch\n",
        "size = 3\n",
        "# space size between each two patches\n",
        "space = .5\n",
        "\n",
        "# for each item in the dictionary,\n",
        "for key,value in color_dic.items():\n",
        "\n",
        "  # set the position on x-axis\n",
        "  x = (key % blocks) * (size + space)\n",
        "  # set the position on y-axis\n",
        "  y = (key // blocks) * (size + space)\n",
        "\n",
        "  # creat a color patch\n",
        "  colors[key] = plt.Rectangle((x, y), size, size, fc=value[1])\n",
        "  # attach the patch to the plot axes\n",
        "  plt.gca().add_patch(colors[key])\n",
        "  \n",
        "  # get the coordinates of the upper left corner of each patch\n",
        "  rx, ry = colors[key].get_xy()\n",
        "  # use that coordinates to spot the center of the same patch\n",
        "  cx = rx + size/2\n",
        "  cy = ry + size/2\n",
        "\n",
        "  # and display a numerical index at the center of that patch\n",
        "  plt.annotate(key, (cx, cy), color='darkgrey', weight='bold', \n",
        "                fontsize=12, ha='center', va='center')\n",
        "\n",
        "# plot the colors\n",
        "plt.axis('scaled')\n",
        "# while turning the axes off\n",
        "plt.axis('off')\n",
        "plt.show()\n"
      ],
      "execution_count": 0,
      "outputs": [
        {
          "output_type": "display_data",
          "data": {
            "image/png": "[encoded data removed]",
            "text/plain": [
              "<Figure size 432x288 with 1 Axes>"
            ]
          },
          "metadata": {
            "tags": []
          }
        }
      ]
    },
    {
      "cell_type": "code",
      "metadata": {
        "id": "fAUH6lPdzsS0",
        "colab_type": "code",
        "outputId": "fa609acf-4fe7-45bb-8ae8-4cb84cad65c1",
        "colab": {
          "base_uri": "https://localhost:8080/",
          "height": 51
        }
      },
      "source": [
        "# -------------------------------------------------\n",
        "# ask the user to pick a color from the dictionary\n",
        "# -------------------------------------------------\n",
        "# set a condition for starting the loop\n",
        "answer = False\n",
        "# process the user's answer\n",
        "while not answer:\n",
        "  target = input('Please pick up the target color by entering its number:\\n')\n",
        "  try:\n",
        "    # check if the answer is a number in alphabet\n",
        "    val = int(target)\n",
        "    # check if the answer is a number in the range\n",
        "    if not (val in range(len(color_dic))):\n",
        "      print('Not in the available range!\\n')\n",
        "    else:\n",
        "      # set the exit condition for getting out of the loop\n",
        "      answer = True\n",
        "  except:\n",
        "    print('Not even a number!\\n')\n",
        "\n",
        "# take the index and extract the hex code for the target color\n",
        "target_hex = color_dic[val][1]\n",
        "\n",
        "# convert and store the RGB code for the target color, as well\n",
        "target = tuple(int(target_hex.lstrip('#')[i:i+2], 16)/255 for i in (0, 2, 4))\n"
      ],
      "execution_count": 0,
      "outputs": [
        {
          "output_type": "stream",
          "text": [
            "Please pick up the target color by entering its number:\n",
            "12\n"
          ],
          "name": "stdout"
        }
      ]
    },
    {
      "cell_type": "code",
      "metadata": {
        "id": "bSQK4Mg3QmMy",
        "colab_type": "code",
        "outputId": "5ea1629a-a767-41f8-9c1f-97bf2d0ac1f8",
        "colab": {
          "base_uri": "https://localhost:8080/",
          "height": 68
        }
      },
      "source": [
        "# ------------------------------------------------------------------------------\n",
        "# ask the user to pick a proper primary color as the start color\n",
        "# ------------------------------------------------------------------------------\n",
        "# ask the question; not receiving any input yet\n",
        "print('Okay, let\\'s start with the primary colors (red, gree, blue);\\n'+\n",
        "      'which one is closer to your color, ' + name +'?\\n')"
      ],
      "execution_count": 0,
      "outputs": [
        {
          "output_type": "stream",
          "text": [
            "Okay, let's start with the primary colors (red, gree, blue);\n",
            "which one is closer to your color, Sahar?\n",
            "\n"
          ],
          "name": "stdout"
        }
      ]
    },
    {
      "cell_type": "code",
      "metadata": {
        "id": "brV8IhcSKaaA",
        "colab_type": "code",
        "outputId": "2cc3f9b5-8e1c-44fb-8dec-a02552abeff0",
        "colab": {
          "base_uri": "https://localhost:8080/",
          "height": 101
        }
      },
      "source": [
        "# ------------------------------------------------------------------------------\n",
        "# display the primary colors and the target color\n",
        "# ------------------------------------------------------------------------------\n",
        "# creat red color patch\n",
        "red = plt.Rectangle((0, 0), 5, 5, fc=(1,0,0))\n",
        "# attach the patch to the plot axes\n",
        "plt.gca().add_patch(red)\n",
        "# creat green color patch\n",
        "green = plt.Rectangle((5.5, 0), 5, 5, fc=(0,1,0))\n",
        "# attach the patch to the plot axes\n",
        "plt.gca().add_patch(green)\n",
        "# creat blue color patch\n",
        "blue = plt.Rectangle((11, 0), 5, 5, fc=(0,0,1))\n",
        "# attach the patch to the plot axes\n",
        "plt.gca().add_patch(blue)\n",
        "# creat the target color patch\n",
        "target_patch = plt.Rectangle((19, 0), 5, 5, fc=target_hex)\n",
        "# attach the patch to the plot axes\n",
        "plt.gca().add_patch(target_patch)\n",
        "plt.annotate('Target', (21.5, 2.5), color='darkgrey', \n",
        "                fontsize=10, ha='center', va='center')\n",
        "plt.axis('scaled')\n",
        "plt.axis('off')\n",
        "plt.show()"
      ],
      "execution_count": 0,
      "outputs": [
        {
          "output_type": "display_data",
          "data": {
            "image/png": "[encoded data removed]",
            "text/plain": [
              "<Figure size 432x288 with 1 Axes>"
            ]
          },
          "metadata": {
            "tags": []
          }
        }
      ]
    },
    {
      "cell_type": "code",
      "metadata": {
        "id": "MOrJi86yBgdz",
        "colab_type": "code",
        "outputId": "088346ef-329b-40c3-f743-23e19999a578",
        "colab": {
          "base_uri": "https://localhost:8080/",
          "height": 51
        }
      },
      "source": [
        "# ------------------------------------------------------------------------------\n",
        "# process and record the user's answer as the start color\n",
        "# ------------------------------------------------------------------------------\n",
        "# ask the question and record the answer\n",
        "start = input('Please type the color name:\\n')\n",
        "# check whether the answer is valid\n",
        "while not start.lower() in ['red', 'green', 'blue']:\n",
        "  # repeat the answer in case of receiving not a valid answer\n",
        "  start = input('You should type either \\'red\\', \\'green\\' or \\'blue\\':\\n')\n",
        "# lowercase the start color string\n",
        "start = start.lower()\n",
        "# set the state color (in RGB)\n",
        "if start == 'red':\n",
        "  state = np.array([1,0,0])\n",
        "elif start == 'green':\n",
        "  state = np.array([0,1,0])\n",
        "else:\n",
        "  state = np.array([0,0,1])\n"
      ],
      "execution_count": 0,
      "outputs": [
        {
          "output_type": "stream",
          "text": [
            "Please type the color name:\n",
            "red\n"
          ],
          "name": "stdout"
        }
      ]
    },
    {
      "cell_type": "code",
      "metadata": {
        "id": "l3D6pAJDAN8S",
        "colab_type": "code",
        "outputId": "2c6de031-777b-4114-b40a-3d817be19c39",
        "colab": {
          "base_uri": "https://localhost:8080/",
          "height": 689
        }
      },
      "source": [
        "# ----------------------- for test ---------------------------------------------\n",
        "counter = 0\n",
        "# ----------------------- for test ---------------------------------------------\n",
        "\n",
        "# ------------------------------------------------------------------------------\n",
        "# THE GAME\n",
        "# ------------------------------------------------------------------------------\n",
        "# repeat until the state color is the same as the target color\n",
        "while not (state == np.array(target)).all():\n",
        "\n",
        "# ------------------------------------------------------------------------------\n",
        "# display the state color and the target color\n",
        "# ------------------------------------------------------------------------------\n",
        "  # create the state_patch\n",
        "  state_patch = plt.Rectangle((0, 0), 5, 5, fc=tuple(state))\n",
        "  # attach the patch to the plot axes\n",
        "  plt.gca().add_patch(state_patch)\n",
        "  # creat the target color patch\n",
        "  target_patch = plt.Rectangle((5.5, 0), 5, 5, fc=target_hex)\n",
        "  # attach the patch to the plot axes\n",
        "  plt.gca().add_patch(target_patch)\n",
        "  # write the term 'target' on the target patch\n",
        "  plt.annotate('Target', (8, 2.5), color='darkgrey',\n",
        "                fontsize=10, ha='center', va='center')\n",
        "\n",
        "  plt.axis('scaled')\n",
        "  plt.axis('off')\n",
        "  plt.show()\n",
        "\n",
        "# ------------------------------------------------------------------------------\n",
        "# ask user to compare the target color with the state color\n",
        "# ------------------------------------------------------------------------------\n",
        "  # ask the question\n",
        "  print('Now, comparing with the current state color,')\n",
        "  # get the answer\n",
        "  description = input('how do you describe the target color?\\n')\n",
        "\n",
        "# ------------------------------------------------------------------------------\n",
        "# analyze the expression\n",
        "# ------------------------------------------------------------------------------\n",
        "  # set the default adjective and adverb\n",
        "  adj = 1\n",
        "  adv = .5\n",
        "  \n",
        "  # convert the description to lowercase\n",
        "  description = description.lower()\n",
        "\n",
        "  # iterate over the adj dictionary\n",
        "  for key, value in adj_dict.items():\n",
        "    if key in description:\n",
        "      adj = value\n",
        "      break\n",
        "  \n",
        "  # iterate over the adv dictionary\n",
        "  for key, value in adv_dict.items():\n",
        "    for item in value:\n",
        "      if item in description:\n",
        "        adv = key\n",
        "        break\n",
        "\n",
        "\n",
        "# ------------------------------------------------------------------------------\n",
        "# cahnge the state color\n",
        "# ------------------------------------------------------------------------------\n",
        "  # change the color based on adverb and adjective\n",
        "  state = state + (adj * adv)\n",
        "  # make sure the components remain in range [0,1]\n",
        "  state = np.clip(state, 0, 1)\n",
        "\n",
        "\n",
        "\n",
        "\n",
        "\n",
        "# ----------------------- for test ---------------------------------------------\n",
        "  counter += 1\n",
        "  if counter == 3:\n",
        "    break\n",
        "# ----------------------- for test ---------------------------------------------"
      ],
      "execution_count": 0,
      "outputs": [
        {
          "output_type": "display_data",
          "data": {
            "image/png": "[encoded data removed]",
            "text/plain": [
              "<Figure size 432x288 with 1 Axes>"
            ]
          },
          "metadata": {
            "tags": []
          }
        },
        {
          "output_type": "stream",
          "text": [
            "Now, comparing with the target color,\n",
            "how do you describe your color?\n",
            "colder\n"
          ],
          "name": "stdout"
        },
        {
          "output_type": "display_data",
          "data": {
            "image/png": "[encoded data removed]",
            "text/plain": [
              "<Figure size 432x288 with 1 Axes>"
            ]
          },
          "metadata": {
            "tags": []
          }
        },
        {
          "output_type": "stream",
          "text": [
            "Now, comparing with the target color,\n",
            "how do you describe your color?\n",
            "more blue\n"
          ],
          "name": "stdout"
        },
        {
          "output_type": "display_data",
          "data": {
            "image/png": "[encoded data removed]",
            "text/plain": [
              "<Figure size 432x288 with 1 Axes>"
            ]
          },
          "metadata": {
            "tags": []
          }
        },
        {
          "output_type": "stream",
          "text": [
            "Now, comparing with the target color,\n",
            "how do you describe your color?\n",
            "something\n"
          ],
          "name": "stdout"
        }
      ]
    }
  ]
}