{
  "nbformat": 4,
  "nbformat_minor": 0,
  "metadata": {
    "colab": {
      "name": "CC.ipynb",
      "provenance": [],
      "collapsed_sections": [],
      "include_colab_link": true
    },
    "kernelspec": {
      "name": "python3",
      "display_name": "Python 3"
    }
  },
  "cells": [
    {
      "cell_type": "markdown",
      "metadata": {
        "id": "view-in-github",
        "colab_type": "text"
      },
      "source": [
        "<a href=\"https://colab.research.google.com/github/shrnkm/ColorCompanion/blob/master/CC.ipynb\" target=\"_parent\"><img src=\"https://colab.research.google.com/assets/colab-badge.svg\" alt=\"Open In Colab\"/></a>"
      ]
    },
    {
      "cell_type": "code",
      "metadata": {
        "id": "MZ3YmgaGwrZH",
        "colab_type": "code",
        "outputId": "8800dd0d-5f5b-4994-9264-6da5efd7984b",
        "colab": {
          "base_uri": "https://localhost:8080/",
          "height": 1000
        }
      },
      "source": [
        "# import the libraries\n",
        "import numpy as np\n",
        "import matplotlib.pyplot as plt\n",
        "\n",
        "# ------------------------------------------------------------------------------\n",
        "# initialize the adjectives dictionary\n",
        "# ------------------------------------------------------------------------------\n",
        "adj_dict = {'warm'  : np.array([1,0,0]),\n",
        "            'red'   : np.array([1,0,0]),\n",
        "            'blue'  : np.array([0,0,1]),\n",
        "            'green' : np.array([0,1,0]),\n",
        "            'yellow': np.array([1,1,0]),\n",
        "            'cold'  : np.array([0,0,.5]),\n",
        "            'dark'  : np.array([-.5,-.5,-.5]),\n",
        "            'bright': np.array([1,1,1]),\n",
        "            'pale'  : np.array([-.3,-.3,-.3]),\n",
        "            'light' : np.array([-1,-1,-1])}\n",
        "\n",
        "\n",
        "# ------------------------------------------------------------------------------\n",
        "# initialize the adverbs dictionary\n",
        "# ------------------------------------------------------------------------------\n",
        "adv_dict = {.2:['bit', 'little', 'slightly'],\n",
        "            .3 :['somewhat', 'somehow'],\n",
        "            .4 :['lot', 'very', 'much']}\n",
        "\n",
        "\n",
        "# ------------------------------------------------------------------------------\n",
        "# set the colors dictionary\n",
        "# ------------------------------------------------------------------------------\n",
        "color_dic = {0: ['boring green','#63b365'],\n",
        "             1: ['cyan','#00ffff'],\n",
        "             2: ['yellow','#ffff14'],\n",
        "             3: ['lime green','#89fe05'],\n",
        "             4: ['hot pink','#ff028d'],\n",
        "             5: ['cornflower','#6a79f7'],\n",
        "             6: ['white','#ffffff'],\n",
        "             7: ['neon blue','#04d9ff'],\n",
        "             8: ['bright teal','#01f9c6'],\n",
        "             9: ['purpley blue','#5f34e7'],\n",
        "             10:['balck','#000000'],\n",
        "             11:['darker purple','#5f1b6b'],\n",
        "             12:['very light purple','#f6cefc'],\n",
        "             13:['light yellow green','#ccfd7f'],\n",
        "             14:['cool grey','#95a3a6'],\n",
        "             15:['fluro green','#0aff02'],\n",
        "             16:['lipstick red','#c0022f'],\n",
        "             17:['lawn green','#4da409'],\n",
        "             18:['darkblue','#030764'],\n",
        "             19:['sand yellow','#fce166'],\n",
        "             20:['golden rod','#f9bc08'],\n",
        "             21:['neon red','#ff073a'],\n",
        "             22:['vivid purple','#9900fa'],\n",
        "             23:['orange pink','#ff6f52'],\n",
        "             24:['desert','#ccad60']}\n",
        "\n",
        "\n",
        "# ------------------------------------------------------------------------------\n",
        "# ask for the name of the user and welcome them\n",
        "# ------------------------------------------------------------------------------\n",
        "# ask and read the user name\n",
        "name = input('What\\'s your name?\\n')\n",
        "# make partition\n",
        "print('\\n\\n=============================================================\\n\\n')\n",
        "\n",
        "# say hi to them\n",
        "print('Hi ,' + name + '!')\n",
        "\n",
        "# ------------------------------------------------------------------------------\n",
        "# plot the colors in the colors dictionary\n",
        "# ------------------------------------------------------------------------------\n",
        "# set an empty list for the colors in the pool\n",
        "colors = [None] * len(color_dic)\n",
        "# number of color patches in each row\n",
        "blocks = 5\n",
        "# size of each color patch\n",
        "size = 3\n",
        "# space size between each two patches\n",
        "space = .5\n",
        "\n",
        "# for each item in the dictionary,\n",
        "for key,value in color_dic.items():\n",
        "  # set the position on x-axis\n",
        "  x = (key % blocks) * (size + space)\n",
        "  # set the position on y-axis\n",
        "  y = (key // blocks) * (size + space)\n",
        "  # creat a color patch\n",
        "  colors[key] = plt.Rectangle((x, y), size, size, fc=value[1])\n",
        "  # attach the patch to the plot axes\n",
        "  plt.gca().add_patch(colors[key])\n",
        "  # get the coordinates of the upper left corner of each patch\n",
        "  rx, ry = colors[key].get_xy()\n",
        "  # use that coordinates to spot the center of the same patch\n",
        "  cx = rx + size/2\n",
        "  cy = ry + size/2\n",
        "  # and display a numerical index at the center of that patch\n",
        "  plt.annotate(key, (cx, cy), color='darkgrey', weight='bold', \n",
        "                fontsize=12, ha='center', va='center')\n",
        "  \n",
        "# plot the colors\n",
        "plt.axis('scaled')\n",
        "# while turning the axes off\n",
        "plt.axis('off')\n",
        "plt.show()\n",
        "\n",
        "\n",
        "# -------------------------------------------------\n",
        "# ask the user to pick a color from the dictionary\n",
        "# -------------------------------------------------\n",
        "# set a condition for starting the loop\n",
        "answer = False\n",
        "# process the user's answer\n",
        "while not answer:\n",
        "  target = input('Please pick up the target color by entering its number:\\n')\n",
        "  try:\n",
        "    # check if the answer is a number in alphabet\n",
        "    val = int(target)\n",
        "    # check if the answer is a number in the range\n",
        "    if not (val in range(len(color_dic))):\n",
        "      print('Not in the available range!\\n')\n",
        "    else:\n",
        "      # set the exit condition for getting out of the loop\n",
        "      answer = True\n",
        "  except:\n",
        "    print('Not even a number!\\n')\n",
        "\n",
        "# take the index and extract the hex code for the target color\n",
        "target_hex = color_dic[val][1]\n",
        "\n",
        "# convert and store the RGB code for the target color, as well\n",
        "target = tuple(int(target_hex.lstrip('#')[i:i+2], 16)/255 for i in (0, 2, 4))\n",
        "\n",
        "# make partition\n",
        "print('\\n\\n=============================================================\\n\\n')\n",
        "\n",
        "\n",
        "# ------------------------------------------------------------------------------\n",
        "# ask the user to pick a proper primary color as the start color\n",
        "# ------------------------------------------------------------------------------\n",
        "# ask the question; not receiving any input yet\n",
        "print('Okay, let\\'s start with the primary colors (red, gree, blue);\\n' +\n",
        "      'which one is closer to your color, ' + name +'?\\n')\n",
        "\n",
        "\n",
        "# ------------------------------------------------------------------------------\n",
        "# display the primary colors and the target color\n",
        "# ------------------------------------------------------------------------------\n",
        "# creat red color patch\n",
        "red = plt.Rectangle((0, 0), 5, 5, fc=(1,0,0))\n",
        "# attach the patch to the plot axes\n",
        "plt.gca().add_patch(red)\n",
        "# creat green color patch\n",
        "green = plt.Rectangle((5.5, 0), 5, 5, fc=(0,1,0))\n",
        "# attach the patch to the plot axes\n",
        "plt.gca().add_patch(green)\n",
        "# creat blue color patch\n",
        "blue = plt.Rectangle((11, 0), 5, 5, fc=(0,0,1))\n",
        "# attach the patch to the plot axes\n",
        "plt.gca().add_patch(blue)\n",
        "# creat the target color patch\n",
        "target_patch = plt.Rectangle((19, 0), 5, 5, fc=target_hex)\n",
        "# attach the patch to the plot axes\n",
        "plt.gca().add_patch(target_patch)\n",
        "# write the term 'target' on the target patch\n",
        "plt.annotate('Target', (21.5, 2.5), color='darkgrey', \n",
        "                fontsize=10, ha='center', va='center')\n",
        "plt.axis('scaled')\n",
        "plt.axis('off')\n",
        "plt.show()\n",
        "\n",
        "\n",
        "# ------------------------------------------------------------------------------\n",
        "# process and record the user's answer as the start color\n",
        "# ------------------------------------------------------------------------------\n",
        "# ask the question and record the answer\n",
        "start = input('Please type the color name:\\n')\n",
        "# check whether the answer is valid\n",
        "while not start.lower() in ['red', 'green', 'blue']:\n",
        "  # repeat the answer in case of receiving not a valid answer\n",
        "  start = input('You should type either \\'red\\', \\'green\\' or \\'blue\\':\\n')\n",
        "# lowercase the start color string\n",
        "start = start.lower()\n",
        "# set the state color (in RGB)\n",
        "if start == 'red':\n",
        "  state = np.array([1,0,0])\n",
        "elif start == 'green':\n",
        "  state = np.array([0,1,0])\n",
        "else:\n",
        "  state = np.array([0,0,1])\n",
        "\n",
        "# make partition\n",
        "print('\\n\\n=============================================================\\n\\n')\n",
        "\n",
        "\n",
        "# ----------------------- for test ---------------------------------------------\n",
        "counter = 0\n",
        "# ----------------------- for test ---------------------------------------------\n",
        "\n",
        "\n",
        "# ------------------------------------------------------------------------------\n",
        "# THE GAME\n",
        "# ------------------------------------------------------------------------------\n",
        "# repeat until the state color is the same as the target color\n",
        "while not (state == np.array(target)).all():\n",
        "\n",
        "# ------------------------------------------------------------------------------\n",
        "# display the state color and the target color\n",
        "# ------------------------------------------------------------------------------\n",
        "  # create the state_patch\n",
        "  state_patch = plt.Rectangle((0, 0), 5, 5, fc=tuple(state))\n",
        "  # attach the patch to the plot axes\n",
        "  plt.gca().add_patch(state_patch)\n",
        "  # creat the target color patch\n",
        "  target_patch = plt.Rectangle((5.5, 0), 5, 5, fc=target_hex)\n",
        "  # attach the patch to the plot axes\n",
        "  plt.gca().add_patch(target_patch)\n",
        "  # write the term 'target' on the target patch\n",
        "  plt.annotate('Target', (8, 2.5), color='darkgrey',\n",
        "                fontsize=10, ha='center', va='center')\n",
        "\n",
        "  plt.axis('scaled')\n",
        "  plt.axis('off')\n",
        "  plt.show()\n",
        "\n",
        "# ------------------------------------------------------------------------------\n",
        "# ask user to compare the target color with the state color\n",
        "# ------------------------------------------------------------------------------\n",
        "  # ask the question\n",
        "  print('Now, comparing with the current state color,')\n",
        "  # get the answer\n",
        "  description = input('how do you describe the target color?\\n')\n",
        "\n",
        "  # make partition\n",
        "  print('\\n\\n=============================================================\\n\\n')\n",
        "\n",
        "\n",
        "# ------------------------------------------------------------------------------\n",
        "# analyze the expression\n",
        "# ------------------------------------------------------------------------------\n",
        "  # set the default adjective and adverb\n",
        "  adj = 1\n",
        "  adv = .15\n",
        "  \n",
        "  # convert the description to lowercase\n",
        "  description = description.lower()\n",
        "\n",
        "  # iterate over the adj dictionary\n",
        "  for key, value in adj_dict.items():\n",
        "    # if find any of the adj dictionary's adjectives in the description\n",
        "    if key in description:\n",
        "      # assign the corresponding action to the variable adj\n",
        "      adj = value\n",
        "      # one adj per description is enough\n",
        "      break\n",
        "  \n",
        "  # iterate over the adv dictionary\n",
        "  for key, value in adv_dict.items():\n",
        "    for item in value:\n",
        "      # if find any of the adv dictionary's adverbs in the description\n",
        "      if item in description:\n",
        "        # assign the corresponding measure to the variable adv\n",
        "        adv = key\n",
        "        # one adv per description is enough\n",
        "        break\n",
        "  \n",
        "# ------------------------------------------------------------------------------\n",
        "# cahnge the state color\n",
        "# ------------------------------------------------------------------------------\n",
        "  # change the color based on adverb and adjective\n",
        "  state = state + (adj * adv)\n",
        "  # make sure the components remain in range [0,1]\n",
        "  state = np.clip(state, 0, 1)\n",
        "\n",
        "\n",
        "# ----------------------- for test ---------------------------------------------\n",
        "  counter += 1\n",
        "  if counter == 4:\n",
        "    break\n",
        "# ----------------------- for test ---------------------------------------------\n",
        "\n"
      ],
      "execution_count": 0,
      "outputs": [
        {
          "output_type": "stream",
          "text": [
            "What's your name?\n",
            "jjj\n",
            "\n",
            "\n",
            "=============================================================\n",
            "\n",
            "\n",
            "Hi ,jjj!\n"
          ],
          "name": "stdout"
        },
        {
          "output_type": "display_data",
          "data": {
            "image/png": "[encoded data removed]",
            "text/plain": [
              "<Figure size 432x288 with 1 Axes>"
            ]
          },
          "metadata": {
            "tags": []
          }
        },
        {
          "output_type": "stream",
          "text": [
            "Please pick up the target color by entering its number:\n",
            "16\n",
            "\n",
            "\n",
            "=============================================================\n",
            "\n",
            "\n",
            "Okay, let's start with the primary colors (red, gree, blue);\n",
            "which one is closer to your color, jjj?\n",
            "\n"
          ],
          "name": "stdout"
        },
        {
          "output_type": "display_data",
          "data": {
            "image/png": "[encoded data removed]",
            "text/plain": [
              "<Figure size 432x288 with 1 Axes>"
            ]
          },
          "metadata": {
            "tags": []
          }
        },
        {
          "output_type": "stream",
          "text": [
            "Please type the color name:\n",
            "red\n",
            "\n",
            "\n",
            "=============================================================\n",
            "\n",
            "\n"
          ],
          "name": "stdout"
        },
        {
          "output_type": "display_data",
          "data": {
            "image/png": "[encoded data removed]",
            "text/plain": [
              "<Figure size 432x288 with 1 Axes>"
            ]
          },
          "metadata": {
            "tags": []
          }
        },
        {
          "output_type": "stream",
          "text": [
            "Now, comparing with the current state color,\n",
            "how do you describe the target color?\n",
            "a bit darker\n",
            "\n",
            "\n",
            "=============================================================\n",
            "\n",
            "\n"
          ],
          "name": "stdout"
        },
        {
          "output_type": "display_data",
          "data": {
            "image/png": "[encoded data removed]",
            "text/plain": [
              "<Figure size 432x288 with 1 Axes>"
            ]
          },
          "metadata": {
            "tags": []
          }
        },
        {
          "output_type": "stream",
          "text": [
            "Now, comparing with the current state color,\n",
            "how do you describe the target color?\n",
            "a lot darker\n",
            "\n",
            "\n",
            "=============================================================\n",
            "\n",
            "\n"
          ],
          "name": "stdout"
        },
        {
          "output_type": "display_data",
          "data": {
            "image/png": "[encoded data removed]",
            "text/plain": [
              "<Figure size 432x288 with 1 Axes>"
            ]
          },
          "metadata": {
            "tags": []
          }
        },
        {
          "output_type": "stream",
          "text": [
            "Now, comparing with the current state color,\n",
            "how do you describe the target color?\n",
            "paler\n",
            "\n",
            "\n",
            "=============================================================\n",
            "\n",
            "\n"
          ],
          "name": "stdout"
        },
        {
          "output_type": "display_data",
          "data": {
            "image/png": "[encoded data removed]",
            "text/plain": [
              "<Figure size 432x288 with 1 Axes>"
            ]
          },
          "metadata": {
            "tags": []
          }
        },
        {
          "output_type": "stream",
          "text": [
            "Now, comparing with the current state color,\n",
            "how do you describe the target color?\n",
            "more blue\n",
            "\n",
            "\n",
            "=============================================================\n",
            "\n",
            "\n"
          ],
          "name": "stdout"
        }
      ]
    }
  ]
}